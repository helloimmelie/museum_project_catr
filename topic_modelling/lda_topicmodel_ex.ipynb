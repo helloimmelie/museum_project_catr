{
 "cells": [
  {
   "cell_type": "code",
   "execution_count": 1,
   "id": "e2243715",
   "metadata": {},
   "outputs": [],
   "source": [
    "import nltk\n",
    "import json\n",
    "import pandas as pd\n",
    "from glob import glob\n",
    "from konlpy.tag import Okt\n",
    "from nltk.tokenize import word_tokenize"
   ]
  },
  {
   "cell_type": "code",
   "execution_count": 86,
   "id": "aad76d09",
   "metadata": {},
   "outputs": [
    {
     "name": "stdout",
     "output_type": "stream",
     "text": [
      "{\n",
      "\t\"휘어진공간\": [\n",
      "\t\t{\n",
      "\t\t\t\"file_name\": \"content180.2.jpg\",\n",
      "\t\t\t\"caption\": \"밤에 불빛이 밤에 밝아 왔다\"\n",
      "\t\t},\n",
      "\t\t{\n",
      "\t\t\t\"file_name\": \"content186.1.jpg\",\n",
      "\t\t\t\"caption\": \"나무 탁자 위에 솜털 같은 은이 놓여 있다.\"\n",
      "\t\t},\n",
      "\t\t{\n",
      "\t\t\t\"file_name\": \"content186.2.jpg\",\n",
      "\t\t\t\"caption\": \"흰색과 파란 색의 경치가 땅바닥에 놓여 있다.\"\n",
      "\t\t},\n",
      "\t\t{\n",
      "\t\t\t\"file_name\": \"content187.0.jpg\",\n",
      "\t\t\t\"caption\": \"나무 판이 있는 방의 금속 램프\"\n",
      "\t\t},\n",
      "\t\t{\n",
      "\t\t\t\"file_name\": \"content184.1.jpg\",\n",
      "\t\t\t\"caption\": \"의자 두개와 의자 한개가 놓여 있는 방.\"\n",
      "\t\t},\n",
      "\t\t{\n",
      "\t\t\t\"file_name\": \"content181.1.jpg\",\n",
      "\t\t\t\"caption\": \"냉장고 옆에 서 있는 어린 소년\"\n",
      "\t\t},\n",
      "\t\t{\n",
      "\t\t\t\"file_name\": \"content182.2.jpg\",\n",
      "\t\t\t\"caption\": \"어린 소년이 플라스틱 야구 방망이를 들고 있다.\"\n",
      "\t\t},\n",
      "\t\t{\n",
      "\t\t\t\"file_name\": \"content181.2.jpg\",\n",
      "\t\t\t\"caption\": \"실내 행사에서 춤추는 보드와 스탠드에 있는 한 무리의 사람들\"\n",
      "\t\t},\n",
      "\t\t{\n",
      "\t\t\t\"file_name\": \"content185.2.jpg\",\n",
      "\t\t\t\"caption\": \"한 남자가 건물의 계단에 서 있다.\"\n",
      "\t\t},\n",
      "\t\t{\n",
      "\t\t\t\"file_name\": \"content186.3.jpg\",\n",
      "\t\t\t\"caption\": \"창턱에 놓여 있는 새 조각\"\n",
      "\t\t},\n",
      "\t\t{\n",
      "\t\t\t\"file_name\": \"content182.0.jpg\",\n",
      "\t\t\t\"caption\": \"창문 옆에 서 있는 빨간 색 셔츠를 입은 남자\"\n",
      "\t\t},\n",
      "\t\t{\n",
      "\t\t\t\"file_name\": \"content186.0.jpg\",\n",
      "\t\t\t\"caption\": \"\\\"오후\\\"라고 적힌 표지의 사진이 찍힌 멈춤 표지판\"\n",
      "\t\t},\n",
      "\t\t{\n",
      "\t\t\t\"file_name\": \"content181.0.jpg\",\n",
      "\t\t\t\"caption\": \"한 남자가 손에 무엇인가를 들고 있다.\"\n",
      "\t\t},\n",
      "\t\t{\n",
      "\t\t\t\"file_name\": \"content180.0.jpg\",\n",
      "\t\t\t\"caption\": \"흰 싱크대 위에 거울이 있는 흰색 싱크대\"\n",
      "\t\t},\n",
      "\t\t{\n",
      "\t\t\t\"file_name\": \"content182.3.jpg\",\n",
      "\t\t\t\"caption\": \"어린 소년이 바나나를 먹으며 사진을 찍기 위해 포즈를 취하고 있다.\"\n",
      "\t\t},\n",
      "\t\t{\n",
      "\t\t\t\"file_name\": \"content187.1.jpg\",\n",
      "\t\t\t\"caption\": \"흰색 벽에 매달려 있는 큰 갈색 곰\"\n",
      "\t\t},\n",
      "\t\t{\n",
      "\t\t\t\"file_name\": \"content185.1.jpg\",\n",
      "\t\t\t\"caption\": \"한 남자가 금속 램프 옆으로 스케이트 보드를 타고 내려가고 있었다.\"\n",
      "\t\t},\n",
      "\t\t{\n",
      "\t\t\t\"file_name\": \"content183.1.jpg\",\n",
      "\t\t\t\"caption\": \"한 소년이 넥타이를 매고 서 있다.\"\n",
      "\t\t},\n",
      "\t\t{\n",
      "\t\t\t\"file_name\": \"content184.0.jpg\",\n",
      "\t\t\t\"caption\": \"거울에 비친 모습의 사진\"\n",
      "\t\t},\n",
      "\t\t{\n",
      "\t\t\t\"file_name\": \"content180.1.jpg\",\n",
      "\t\t\t\"caption\": \"벽에 걸린 시계와 꽃병.\"\n",
      "\t\t},\n",
      "\t\t{\n",
      "\t\t\t\"file_name\": \"content185.0.jpg\",\n",
      "\t\t\t\"caption\": \"한 남자가 우산을 들고 의자에 서 있다.\"\n",
      "\t\t},\n",
      "\t\t{\n",
      "\t\t\t\"file_name\": \"content183.2.jpg\",\n",
      "\t\t\t\"caption\": \"어린 소년이 의자에 앉아 카메라를 바라보고 있다.\"\n",
      "\t\t},\n",
      "\t\t{\n",
      "\t\t\t\"file_name\": \"content182.1.jpg\",\n",
      "\t\t\t\"caption\": \"한 어린 소년이 우산을 들고 있다.\"\n",
      "\t\t},\n",
      "\t\t{\n",
      "\t\t\t\"file_name\": \"content185.3.jpg\",\n",
      "\t\t\t\"caption\": \"한 어린 소년이 의자에 앉아 있다.\"\n",
      "\t\t}\n",
      "\t]\n",
      "}\n"
     ]
    }
   ],
   "source": [
    "print(text)"
   ]
  },
  {
   "cell_type": "code",
   "execution_count": 15,
   "id": "5170063a",
   "metadata": {},
   "outputs": [],
   "source": [
    "with open('../data/museum/2017/2017서울포커스.json', 'r', encoding = 'UTF8') as f:\n",
    "    d = json.load(f)"
   ]
  },
  {
   "cell_type": "code",
   "execution_count": 84,
   "id": "4642c43c",
   "metadata": {},
   "outputs": [
    {
     "name": "stdout",
     "output_type": "stream",
     "text": [
      "{'2017seoulfocus': [{'file_name': 'content58.3.jpg', 'caption': '많은 연들이 하늘 높이 떠 있다.'}, {'file_name': 'content57.0.jpg', 'caption': '흰색과 노란 색의 돋보기이 벽에 걸려 있다.'}, {'file_name': 'content53.jpg', 'caption': '깃발이 그려진 큰 연단'}, {'file_name': 'content61.0.jpg', 'caption': '창문이 있는 방의 사진'}, {'file_name': 'content63.5.jpg', 'caption': '벽에 걸려 있는 조명 아래에 있는 큰 섬난로'}, {'file_name': 'content57.2.jpg', 'caption': '벽에 낙서를 하는 간판'}, {'file_name': 'content62.0.jpg', 'caption': '싱크대와 큰 거울이 있는 방'}, {'file_name': 'content59.jpg', 'caption': '나무 바닥과 벽난로가 있는 거실.'}, {'file_name': 'content63.4.jpg', 'caption': '텔레비전 앞에 서 있는 남자.'}, {'file_name': 'content54.3.jpg', 'caption': 'Tv가 있는 거실과 평면 스크린 tv.'}, {'file_name': 'content64.2.jpg', 'caption': '부에 있는 컵에 든 새의 근접 촬영'}, {'file_name': 'content65.0.jpg', 'caption': '나무 캐비닛과 싱크대가 있는 부'}, {'file_name': 'content65.1.jpg', 'caption': '의자, 탁자, 의자, 의자, 샹들리에가 있는 거실.'}, {'file_name': 'content51.3.jpg', 'caption': '큰 도시 근처의 큰 수역'}, {'file_name': 'content63.1.jpg', 'caption': '건물 밖에 표지판이 세워져 있다'}, {'file_name': 'content64.4.jpg', 'caption': '검은 신발을 신고 있는 남자는 스케이트 보드 위에 서 있다.'}, {'file_name': 'content66.jpg', 'caption': '나무와 집 근처의 나무들'}, {'file_name': 'content61.2.jpg', 'caption': '싱크대와 tv가 있는 방'}, {'file_name': 'content63.8.jpg', 'caption': '벽에 소변기가 있는 욕실'}, {'file_name': 'content64.1.jpg', 'caption': '냉장고는 흰색으로 장식된 제품을 포함한다.'}, {'file_name': 'content63.7.jpg', 'caption': '한 남자가 거울에 비친 자기 모습을 사진 찍고 있다.'}, {'file_name': 'content64.0.jpg', 'caption': '벽에 걸린 그림의 그림'}, {'file_name': 'content58.0.jpg', 'caption': '많은 화려한 색의 우산들이 서로 가까이 놓여 있다.'}, {'file_name': 'content57.1.jpg', 'caption': '벽에 걸린 표지판의 근접 촬영'}, {'file_name': 'content54.4.jpg', 'caption': '한 남자가 주차 미터기에서 음식을 꺼내고 있다.'}, {'file_name': 'content56.jpg', 'caption': '흰색과 녹색의 전선이 있는 방'}, {'file_name': 'content67.jpg', 'caption': '건물 앞에 있는 나선형 표지판'}, {'file_name': 'content52.2.jpg', 'caption': '벽에 붙어 있는 표지판'}, {'file_name': 'content63.6.jpg', 'caption': '한 남자가 뉴스 종이에 앉아 텔레비전 화면을 보고 있다.'}, {'file_name': 'content52.1.jpg', 'caption': '벽에 낙서를 하는 건물'}, {'file_name': 'content64.3.jpg', 'caption': '해가 배경으로 보이는 해변'}, {'file_name': 'content58.2.jpg', 'caption': '도넛이 가득한 창문이 있는 창문'}, {'file_name': 'content58.1.jpg', 'caption': '텐트 케이크를 네온민 그룹.'}, {'file_name': 'content63.0.jpg', 'caption': '한 남자가 거울에 비친 자기 모습을 사진 찍고 있다.'}, {'file_name': 'content52.0.jpg', 'caption': '벽에 걸려 있는 표지판 옆에 표지판이 걸려 있다.'}, {'file_name': 'content54.2.jpg', 'caption': '흑백 사진은 소파와 의자가 있는 오래 된 사진입니다.'}, {'file_name': 'content63.3.jpg', 'caption': '한 무리의 사람들이 빗물에 젖은 도로를 걷고 있다.'}, {'file_name': 'content58.5.jpg', 'caption': '\"페인을 사랑한다는\"라고 적힌 간판이 있는 기둥.'}, {'file_name': 'content54.1.jpg', 'caption': '싱크대와 샤워기 옆에 있는 금속 싱크대'}, {'file_name': 'content60.jpg', 'caption': '싱크대와 창문이 있는 부'}, {'file_name': 'content62.1.jpg', 'caption': '흰색 샤워기와 빨간 불이 켜진 벽돌벽'}, {'file_name': 'content54.0.jpg', 'caption': '하늘을 나는 화려한 연들'}, {'file_name': 'content51.4.jpg', 'caption': '건물 앞에 있는 몇개의 건물'}, {'file_name': 'content58.4.jpg', 'caption': '깃발이 많이 있는 색깔 있는 색깔의 우산들'}, {'file_name': 'content55.jpg', 'caption': '벽에 걸린 표지판의 근접 촬영'}, {'file_name': 'content61.1.jpg', 'caption': '벽에 그림이 걸려 있는 방'}, {'file_name': 'content63.9.jpg', 'caption': '한 남자가 텔레비전 화면을 응시하고 있다.'}, {'file_name': 'content52.3.jpg', 'caption': '가게의 그림자에 테디 베어가 그려져 있다.'}]}\n"
     ]
    }
   ],
   "source": [
    "print(d)"
   ]
  },
  {
   "cell_type": "code",
   "execution_count": 51,
   "id": "a9074792",
   "metadata": {},
   "outputs": [],
   "source": [
    "caption_list= []"
   ]
  },
  {
   "cell_type": "code",
   "execution_count": 52,
   "id": "bb3affcf",
   "metadata": {},
   "outputs": [],
   "source": [
    "for i in range(len(d['2017seoulfocus'])):\n",
    "    caption_list.append(d['2017seoulfocus'][i]['caption'])"
   ]
  },
  {
   "cell_type": "code",
   "execution_count": 56,
   "id": "c60b4a76",
   "metadata": {},
   "outputs": [],
   "source": [
    "with open(\"../data/museum/caption.txt\",\"w\", encoding = 'UTF8') as f:\n",
    "    for caption in caption_list:\n",
    "        f.write(f'{caption}\\n')"
   ]
  },
  {
   "cell_type": "code",
   "execution_count": 60,
   "id": "1c634e21",
   "metadata": {},
   "outputs": [],
   "source": [
    "with open(\"../data/museum/caption.txt\", encoding='UTF8') as f:\n",
    "    captions=f.readlines()"
   ]
  },
  {
   "cell_type": "code",
   "execution_count": 76,
   "id": "7bc81b11",
   "metadata": {},
   "outputs": [
    {
     "name": "stderr",
     "output_type": "stream",
     "text": [
      "[nltk_data] Downloading package punkt to\n",
      "[nltk_data]     C:\\Users\\cho40\\AppData\\Roaming\\nltk_data...\n",
      "[nltk_data]   Package punkt is already up-to-date!\n"
     ]
    }
   ],
   "source": [
    "nltk.download('punkt')\n",
    "stop_words = ['.','있다.','있는','이','의','를','에','을', '있', '하', '것', '들', '그', '되', \n",
    "              '수', '이', '보', '않', '없', '나', '사람', '주', '아니', '등', '같', '우리', '때', '년', \n",
    "              '가', '한', '지', '대하', '오', '말', '일', '그렇', '위하']"
   ]
  },
  {
   "cell_type": "code",
   "execution_count": 77,
   "id": "38986ab9",
   "metadata": {},
   "outputs": [
    {
     "name": "stderr",
     "output_type": "stream",
     "text": [
      "<ipython-input-77-da9e2d61ff69>:2: FutureWarning: The default value of regex will change from True to False in a future version.\n",
      "  caption['clean_caption'] = caption['caption'].str.replace(\"^[가-힣a-zA-Z]+$\", \" \")\n"
     ]
    }
   ],
   "source": [
    "caption = pd.DataFrame({'caption':captions})\n",
    "caption['clean_caption'] = caption['caption'].str.replace(\"^[가-힣a-zA-Z]+$\", \" \")"
   ]
  },
  {
   "cell_type": "code",
   "execution_count": 78,
   "id": "b38d12da",
   "metadata": {},
   "outputs": [],
   "source": [
    "caption['clean_caption'][0]\n",
    "tokenized_caption = caption['clean_caption'].apply(lambda x: x.split()) # 토큰화\n",
    "tokenized_caption = tokenized_caption.apply(lambda x: [item for item in x if item not in stop_words])\n",
    "result = []"
   ]
  },
  {
   "cell_type": "code",
   "execution_count": 79,
   "id": "8cee8ed7",
   "metadata": {},
   "outputs": [
    {
     "name": "stdout",
     "output_type": "stream",
     "text": [
      "['많은', '연들이', '하늘', '높이', '떠']\n"
     ]
    }
   ],
   "source": [
    "print(tokenized_caption[0])"
   ]
  },
  {
   "cell_type": "code",
   "execution_count": 80,
   "id": "6f953951",
   "metadata": {},
   "outputs": [],
   "source": [
    "from gensim import corpora"
   ]
  },
  {
   "cell_type": "code",
   "execution_count": 81,
   "id": "51988cf2",
   "metadata": {},
   "outputs": [
    {
     "name": "stdout",
     "output_type": "stream",
     "text": [
      "[(5, 1), (6, 1), (7, 1), (8, 1), (9, 1), (10, 1)]\n"
     ]
    }
   ],
   "source": [
    "dictionary = corpora.Dictionary(tokenized_caption)\n",
    "corpus = [dictionary.doc2bow(text) for text in tokenized_caption]\n",
    "print(corpus[1]) # 수행된 결과에서 두번째 뉴스 출력. 첫번째 문서의 인덱스는 0"
   ]
  },
  {
   "cell_type": "code",
   "execution_count": 82,
   "id": "bb0bf9a1",
   "metadata": {},
   "outputs": [
    {
     "name": "stdout",
     "output_type": "stream",
     "text": [
      "(0, '0.119*\"의자,\" + 0.042*\"거실.\" + 0.042*\"근처의\" + 0.042*\"샹들리에가\"')\n",
      "(1, '0.077*\"벽에\" + 0.077*\"큰\" + 0.052*\"걸린\" + 0.052*\"촬영\"')\n",
      "(2, '0.066*\"남자가\" + 0.045*\"사진\" + 0.045*\"자기\" + 0.045*\"모습을\"')\n",
      "(3, '0.050*\"빗물에\" + 0.050*\"걷고\" + 0.050*\"무리의\" + 0.050*\"사람들이\"')\n",
      "(4, '0.023*\"텔레비전\" + 0.023*\"화면을\" + 0.023*\"하는\" + 0.023*\"낙서를\"')\n",
      "(5, '0.095*\"걸려\" + 0.050*\"벽에\" + 0.050*\"표지판\" + 0.050*\"표지판이\"')\n",
      "(6, '0.037*\"나무\" + 0.020*\"서\" + 0.020*\"스케이트\" + 0.020*\"검은\"')\n",
      "(7, '0.054*\"벽에\" + 0.054*\"색의\" + 0.054*\"걸려\" + 0.028*\"화려한\"')\n",
      "(8, '0.100*\"건물\" + 0.041*\"앞에\" + 0.041*\"벽에\" + 0.022*\"\"페인을\"')\n",
      "(9, '0.074*\"창문이\" + 0.026*\"텔레비전\" + 0.026*\"깃발이\" + 0.026*\"부\"')\n"
     ]
    }
   ],
   "source": [
    "import gensim\n",
    "NUM_TOPICS = 10 #20개의 토픽, k=20\n",
    "ldamodel = gensim.models.ldamodel.LdaModel(corpus, num_topics = NUM_TOPICS, id2word=dictionary, passes=15)\n",
    "topics = ldamodel.print_topics(num_words=4)\n",
    "for topic in topics:\n",
    "    print(topic)"
   ]
  },
  {
   "cell_type": "code",
   "execution_count": null,
   "id": "220d9da7",
   "metadata": {},
   "outputs": [],
   "source": []
  }
 ],
 "metadata": {
  "kernelspec": {
   "display_name": "Python 3",
   "language": "python",
   "name": "python3"
  },
  "language_info": {
   "codemirror_mode": {
    "name": "ipython",
    "version": 3
   },
   "file_extension": ".py",
   "mimetype": "text/x-python",
   "name": "python",
   "nbconvert_exporter": "python",
   "pygments_lexer": "ipython3",
   "version": "3.8.10"
  }
 },
 "nbformat": 4,
 "nbformat_minor": 5
}
