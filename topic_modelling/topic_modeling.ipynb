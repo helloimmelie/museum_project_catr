{
 "cells": [
  {
   "cell_type": "code",
   "execution_count": 55,
   "id": "6b564ddb",
   "metadata": {},
   "outputs": [],
   "source": [
    "import nltk\n",
    "import json\n",
    "import pandas as pd\n",
    "from glob import glob\n",
    "from konlpy.tag import Okt\n",
    "from nltk.tokenize import word_tokenize\n",
    "twitter = Okt()"
   ]
  },
  {
   "cell_type": "code",
   "execution_count": 56,
   "id": "2572e1c8",
   "metadata": {},
   "outputs": [],
   "source": [
    "caption_list=[]\n",
    "\n",
    "files = glob('../data/museum/*/*.json')\n",
    "for filename in files:\n",
    "    with open(filename, encoding='UTF8') as f:\n",
    "        d = json.load(f)\n",
    "        for key in d.keys():\n",
    "            for i in range(len(d[str(key)])):\n",
    "                caption_list.append(d[str(key)][i]['caption'])\n",
    "\n",
    "with open(\"../data/museum/caption.txt\",\"w\", encoding = 'UTF8') as f:\n",
    "    for caption in caption_list:\n",
    "        f.write(f'{caption}\\n')"
   ]
  },
  {
   "cell_type": "code",
   "execution_count": 57,
   "id": "5a439148",
   "metadata": {},
   "outputs": [],
   "source": [
    "with open(\"../data/museum/caption.txt\", encoding='UTF8') as f:\n",
    "    captions=f.readlines()"
   ]
  },
  {
   "cell_type": "code",
   "execution_count": 58,
   "id": "de096e18",
   "metadata": {},
   "outputs": [
    {
     "name": "stderr",
     "output_type": "stream",
     "text": [
      "[nltk_data] Downloading package punkt to\n",
      "[nltk_data]     C:\\Users\\cho40\\AppData\\Roaming\\nltk_data...\n",
      "[nltk_data]   Package punkt is already up-to-date!\n"
     ]
    }
   ],
   "source": [
    "nltk.download('punkt')\n",
    "stop_words = ['.','있다.','있는','이','의','를','에','을', '있', '하', '것', '들', '그', '되', \n",
    "              '수', '이', '보', '않', '없', '나', '사람', '주', '아니', '등', '같', '우리', '때', '년', \n",
    "              '가', '한', '지', '대하', '오', '말', '일', '그렇', '위하']"
   ]
  },
  {
   "cell_type": "code",
   "execution_count": 59,
   "id": "97cff8a0",
   "metadata": {},
   "outputs": [
    {
     "name": "stderr",
     "output_type": "stream",
     "text": [
      "<ipython-input-59-da9e2d61ff69>:2: FutureWarning: The default value of regex will change from True to False in a future version.\n",
      "  caption['clean_caption'] = caption['caption'].str.replace(\"^[가-힣a-zA-Z]+$\", \" \")\n"
     ]
    }
   ],
   "source": [
    "caption = pd.DataFrame({'caption':captions})\n",
    "caption['clean_caption'] = caption['caption'].str.replace(\"^[가-힣a-zA-Z]+$\", \" \")"
   ]
  },
  {
   "cell_type": "code",
   "execution_count": 60,
   "id": "6dbfd844",
   "metadata": {},
   "outputs": [],
   "source": [
    "caption['clean_caption'][0]\n",
    "tokenized_caption = caption['clean_caption'].apply(lambda x: x.split()) # 토큰화\n",
    "tokenized_caption = tokenized_caption.apply(lambda x: [item for item in x if item not in stop_words])\n",
    "result = []"
   ]
  },
  {
   "cell_type": "code",
   "execution_count": 61,
   "id": "b5b4291f",
   "metadata": {},
   "outputs": [],
   "source": [
    "from gensim import corpora"
   ]
  },
  {
   "cell_type": "code",
   "execution_count": 62,
   "id": "0f66fb1a",
   "metadata": {},
   "outputs": [],
   "source": [
    "dictionary = corpora.Dictionary(tokenized_caption)\n",
    "corpus = [dictionary.doc2bow(text) for text in tokenized_caption]"
   ]
  },
  {
   "cell_type": "code",
   "execution_count": 63,
   "id": "d67df282",
   "metadata": {},
   "outputs": [
    {
     "name": "stdout",
     "output_type": "stream",
     "text": [
      "(0, '0.194*\"앉아\" + 0.056*\"여자가\" + 0.039*\"벤치에\" + 0.038*\"의자에\" + 0.033*\"테이블에\" + 0.027*\"창문에\" + 0.021*\"남자가\" + 0.017*\"거울에\" + 0.017*\"비친\" + 0.016*\"여자\"')\n",
      "(1, '0.101*\"큰\" + 0.058*\"옆에\" + 0.057*\"창문\" + 0.043*\"건물\" + 0.030*\"간판\" + 0.029*\"앉아\" + 0.025*\"창문이\" + 0.022*\"아이가\" + 0.022*\"앞에\" + 0.019*\"아래에\"')\n",
      "(2, '0.109*\"무리의\" + 0.094*\"사람들이\" + 0.091*\"서\" + 0.067*\"건물\" + 0.036*\"밖에\" + 0.033*\"남자\" + 0.030*\"건물의\" + 0.024*\"옆에\" + 0.019*\"측면에\" + 0.018*\"큰\"')\n",
      "(3, '0.091*\"나무\" + 0.066*\"앞에\" + 0.052*\"옆에\" + 0.047*\"가게\" + 0.044*\"서\" + 0.044*\"금속\" + 0.028*\"텔레비전\" + 0.026*\"텔레비전이\" + 0.020*\"건물\" + 0.020*\"된\"')\n",
      "(4, '0.170*\"위에\" + 0.091*\"놓여\" + 0.078*\"탁자\" + 0.072*\"나무\" + 0.028*\"앉아\" + 0.020*\"테이블\" + 0.017*\"책상\" + 0.016*\"컴퓨터\" + 0.015*\"많은\" + 0.012*\"하얀\"')\n",
      "(5, '0.096*\"어린\" + 0.050*\"들고\" + 0.046*\"소년이\" + 0.038*\"소녀가\" + 0.035*\"사진\" + 0.024*\"셔츠를\" + 0.024*\"넥타이를\" + 0.024*\"입은\" + 0.023*\"서\" + 0.022*\"여자가\"')\n",
      "(6, '0.177*\"벽에\" + 0.067*\"걸린\" + 0.061*\"걸려\" + 0.043*\"그림\" + 0.036*\"그려진\" + 0.028*\"그림이\" + 0.021*\"그림의\" + 0.020*\"매고\" + 0.017*\"기대어\" + 0.015*\"붙어\"')\n",
      "(7, '0.090*\"색\" + 0.057*\"빨간\" + 0.047*\"흰색\" + 0.042*\"흰색과\" + 0.036*\"검은\" + 0.032*\"색의\" + 0.031*\"표지판\" + 0.028*\"색과\" + 0.023*\"노란\" + 0.021*\"파란\"')\n",
      "(8, '0.113*\"남자가\" + 0.086*\"들고\" + 0.046*\"서\" + 0.035*\"하고\" + 0.033*\"보드를\" + 0.031*\"두명의\" + 0.029*\"전화를\" + 0.026*\"서서\" + 0.025*\"스케이트\" + 0.025*\"여성이\"')\n",
      "(9, '0.039*\"가게의\" + 0.034*\"자르고\" + 0.033*\"가위로\" + 0.030*\"매달려\" + 0.030*\"여자가\" + 0.029*\"욕실\" + 0.029*\"그녀의\" + 0.022*\"방\" + 0.022*\"가게에서\" + 0.016*\"든\"')\n"
     ]
    }
   ],
   "source": [
    "import gensim\n",
    "NUM_TOPICS = 10 #20개의 토픽, k=20\n",
    "ldamodel = gensim.models.ldamodel.LdaModel(corpus, num_topics = NUM_TOPICS, id2word=dictionary, passes=15)\n",
    "topics = ldamodel.print_topics(num_words=10)\n",
    "for topic in topics:\n",
    "    print(topic)"
   ]
  },
  {
   "cell_type": "code",
   "execution_count": 64,
   "id": "c23dd21b",
   "metadata": {},
   "outputs": [
    {
     "name": "stdout",
     "output_type": "stream",
     "text": [
      "[(0, 0.41999856), (1, 0.020000657), (2, 0.020000083), (3, 0.020000102), (4, 0.020000648), (5, 0.41999966), (6, 0.020000083), (7, 0.020000083), (8, 0.020000083), (9, 0.020000083)]\n"
     ]
    }
   ],
   "source": [
    "vector = ldamodel[test_doc]\n",
    "print(vector)"
   ]
  },
  {
   "cell_type": "code",
   "execution_count": 65,
   "id": "f84d0605",
   "metadata": {},
   "outputs": [],
   "source": [
    "test_doc = corpus[-1]\n",
    "vector = ldamodel[test_doc]\n",
    "ldamodel.save('../data/museum/model_topic/test_model.model')"
   ]
  },
  {
   "cell_type": "code",
   "execution_count": 66,
   "id": "114424fa",
   "metadata": {},
   "outputs": [],
   "source": [
    "new_model = gensim.models.ldamodel.LdaModel.load(\"../data/museum/model_topic/test_model.model\")\n"
   ]
  },
  {
   "cell_type": "code",
   "execution_count": null,
   "id": "acb723a7",
   "metadata": {},
   "outputs": [],
   "source": []
  }
 ],
 "metadata": {
  "kernelspec": {
   "display_name": "Python 3",
   "language": "python",
   "name": "python3"
  },
  "language_info": {
   "codemirror_mode": {
    "name": "ipython",
    "version": 3
   },
   "file_extension": ".py",
   "mimetype": "text/x-python",
   "name": "python",
   "nbconvert_exporter": "python",
   "pygments_lexer": "ipython3",
   "version": "3.8.10"
  }
 },
 "nbformat": 4,
 "nbformat_minor": 5
}
